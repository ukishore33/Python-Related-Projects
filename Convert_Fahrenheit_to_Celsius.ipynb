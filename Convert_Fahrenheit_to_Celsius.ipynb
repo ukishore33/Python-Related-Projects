{
  "nbformat": 4,
  "nbformat_minor": 0,
  "metadata": {
    "colab": {
      "provenance": [],
      "authorship_tag": "ABX9TyM8YZivwuTQV4T8tMT9zCxj",
      "include_colab_link": true
    },
    "kernelspec": {
      "name": "python3",
      "display_name": "Python 3"
    },
    "language_info": {
      "name": "python"
    }
  },
  "cells": [
    {
      "cell_type": "markdown",
      "metadata": {
        "id": "view-in-github",
        "colab_type": "text"
      },
      "source": [
        "<a href=\"https://colab.research.google.com/github/ukishore33/Python-Related-Projects/blob/main/Convert_Fahrenheit_to_Celsius.ipynb\" target=\"_parent\"><img src=\"https://colab.research.google.com/assets/colab-badge.svg\" alt=\"Open In Colab\"/></a>"
      ]
    },
    {
      "cell_type": "code",
      "execution_count": 1,
      "metadata": {
        "colab": {
          "base_uri": "https://localhost:8080/"
        },
        "id": "ip8-At-MbUFn",
        "outputId": "24787ebb-93e8-4977-d89b-f71fc52b89c3"
      },
      "outputs": [
        {
          "output_type": "stream",
          "name": "stdout",
          "text": [
            "25.555555555555557\n"
          ]
        }
      ],
      "source": [
        "def convert(s):\n",
        "    f = float(s)\n",
        "    c = (f - 32) * 5/9\n",
        "    return c\n",
        "\n",
        "print(convert(78))"
      ]
    }
  ]
}