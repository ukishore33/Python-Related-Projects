{
  "nbformat": 4,
  "nbformat_minor": 0,
  "metadata": {
    "colab": {
      "provenance": [],
      "authorship_tag": "ABX9TyO6MgKqn7GxnnjOATvBkMPc",
      "include_colab_link": true
    },
    "kernelspec": {
      "name": "python3",
      "display_name": "Python 3"
    },
    "language_info": {
      "name": "python"
    }
  },
  "cells": [
    {
      "cell_type": "markdown",
      "metadata": {
        "id": "view-in-github",
        "colab_type": "text"
      },
      "source": [
        "<a href=\"https://colab.research.google.com/github/ukishore33/Python-Related-Projects/blob/main/The_logic_of_Quiz_Game_with_Python.ipynb\" target=\"_parent\"><img src=\"https://colab.research.google.com/assets/colab-badge.svg\" alt=\"Open In Colab\"/></a>"
      ]
    },
    {
      "cell_type": "code",
      "execution_count": 1,
      "metadata": {
        "colab": {
          "base_uri": "https://localhost:8080/"
        },
        "id": "5wn2SW1_YxjQ",
        "outputId": "35befa48-9dc6-49dc-aef1-757d04b291be"
      },
      "outputs": [
        {
          "output_type": "stream",
          "name": "stdout",
          "text": [
            "Guess the Animal\n",
            "Which bear lives at the North Pole? polar bear\n",
            "Correct Answer\n",
            "Which is the fastest land animal? cheetah\n",
            "Correct Answer\n",
            "Which is the larget animal? dinosaur\n",
            "Sorry Wrong Answer, try againwlephant\n",
            "Sorry Wrong Answer, try againblue whale\n",
            "Correct Answer\n",
            "Your Score is 3\n"
          ]
        }
      ],
      "source": [
        "def check_guess(guess, answer):\n",
        "    global score\n",
        "    still_guessing = True\n",
        "    attempt = 0\n",
        "    while still_guessing and attempt < 3:\n",
        "        if guess.lower() == answer.lower():\n",
        "            print(\"Correct Answer\")\n",
        "            score = score + 1\n",
        "            still_guessing = False\n",
        "        else:\n",
        "            if attempt < 2:\n",
        "                guess = input(\"Sorry Wrong Answer, try again\")\n",
        "            attempt = attempt + 1\n",
        "    if attempt == 3:\n",
        "        print(\"The Correct answer is \",answer )\n",
        "\n",
        "score = 0\n",
        "print(\"Guess the Animal\")\n",
        "guess1 = input(\"Which bear lives at the North Pole? \")\n",
        "check_guess(guess1, \"polar bear\")\n",
        "guess2 = input(\"Which is the fastest land animal? \")\n",
        "check_guess(guess2, \"Cheetah\")\n",
        "guess3 = input(\"Which is the larget animal? \")\n",
        "check_guess(guess3, \"Blue Whale\")\n",
        "print(\"Your Score is \"+ str(score))"
      ]
    }
  ]
}