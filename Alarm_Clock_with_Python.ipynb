{
  "nbformat": 4,
  "nbformat_minor": 0,
  "metadata": {
    "colab": {
      "provenance": [],
      "authorship_tag": "ABX9TyPapnpAU7S1KWcVixejq0LU",
      "include_colab_link": true
    },
    "kernelspec": {
      "name": "python3",
      "display_name": "Python 3"
    },
    "language_info": {
      "name": "python"
    }
  },
  "cells": [
    {
      "cell_type": "markdown",
      "metadata": {
        "id": "view-in-github",
        "colab_type": "text"
      },
      "source": [
        "<a href=\"https://colab.research.google.com/github/ukishore33/Python-Related-Projects/blob/main/Alarm_Clock_with_Python.ipynb\" target=\"_parent\"><img src=\"https://colab.research.google.com/assets/colab-badge.svg\" alt=\"Open In Colab\"/></a>"
      ]
    },
    {
      "cell_type": "code",
      "source": [
        "pip install playsound"
      ],
      "metadata": {
        "colab": {
          "base_uri": "https://localhost:8080/"
        },
        "id": "p6BAY2ttBZYw",
        "outputId": "74d53f83-ffa7-4c01-b4c1-9c9fd3ebc33e"
      },
      "execution_count": 4,
      "outputs": [
        {
          "output_type": "stream",
          "name": "stdout",
          "text": [
            "Collecting playsound\n",
            "  Downloading playsound-1.3.0.tar.gz (7.7 kB)\n",
            "  Preparing metadata (setup.py) ... \u001b[?25l\u001b[?25hdone\n",
            "Building wheels for collected packages: playsound\n",
            "  Building wheel for playsound (setup.py) ... \u001b[?25l\u001b[?25hdone\n",
            "  Created wheel for playsound: filename=playsound-1.3.0-py3-none-any.whl size=7020 sha256=6d6725b89f6d986e6504d4c80fd52bdcbbd6a59b6f22cbf7342bf1eb299bbd81\n",
            "  Stored in directory: /root/.cache/pip/wheels/90/89/ed/2d643f4226fc8c7c9156fc28abd8051e2d2c0de37ae51ac45c\n",
            "Successfully built playsound\n",
            "Installing collected packages: playsound\n",
            "Successfully installed playsound-1.3.0\n"
          ]
        }
      ]
    },
    {
      "cell_type": "code",
      "execution_count": 8,
      "metadata": {
        "colab": {
          "base_uri": "https://localhost:8080/"
        },
        "id": "sexdnw6OAP_Y",
        "outputId": "b6bb6023-c7a8-4f14-aca3-e204cf2898d9"
      },
      "outputs": [
        {
          "output_type": "stream",
          "name": "stdout",
          "text": [
            "Enter the time of alarm to be set:HH:MM:SS\n",
            "05 58 00 pm\n",
            "Setting up alarm..\n",
            "Wake Up!\n"
          ]
        }
      ],
      "source": [
        "from datetime import datetime\n",
        "from playsound import playsound\n",
        "alarm_time = input(\"Enter the time of alarm to be set:HH:MM:SS\\n\")\n",
        "alarm_hour=alarm_time[0:2]\n",
        "alarm_minute=alarm_time[3:5]\n",
        "alarm_seconds=alarm_time[6:8]\n",
        "alarm_period = alarm_time[9:11].upper()\n",
        "print(\"Setting up alarm..\")\n",
        "while True:\n",
        "    now = datetime.now()\n",
        "    current_hour = now.strftime(\"%I\")\n",
        "    current_minute = now.strftime(\"%M\")\n",
        "    current_seconds = now.strftime(\"%S\")\n",
        "    current_period = now.strftime(\"%p\")\n",
        "    if(alarm_period==current_period):\n",
        "        if(alarm_hour==current_hour):\n",
        "            if(alarm_minute==current_minute):\n",
        "                if(alarm_seconds==current_seconds):\n",
        "                    print(\"Wake Up!\")\n",
        "                    break"
      ]
    },
    {
      "cell_type": "code",
      "source": [
        "from datetime import datetime\n",
        "from playsound import playsound\n",
        "now = datetime.now()\n",
        "current_hour = now.strftime(\"%I\")\n",
        "current_minute = now.strftime(\"%M\")\n",
        "current_seconds = now.strftime(\"%S\")\n",
        "current_period = now.strftime(\"%p\")\n",
        "print(current_hour,current_minute,current_seconds,current_period)"
      ],
      "metadata": {
        "colab": {
          "base_uri": "https://localhost:8080/"
        },
        "id": "yDgE2n5cDTZ8",
        "outputId": "def5098c-e6d5-4448-bc00-0e7c1e15c3f3"
      },
      "execution_count": 7,
      "outputs": [
        {
          "output_type": "stream",
          "name": "stdout",
          "text": [
            "05 57 01 PM\n"
          ]
        }
      ]
    }
  ]
}