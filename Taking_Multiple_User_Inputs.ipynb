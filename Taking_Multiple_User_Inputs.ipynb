{
  "nbformat": 4,
  "nbformat_minor": 0,
  "metadata": {
    "colab": {
      "provenance": [],
      "authorship_tag": "ABX9TyM6GWIGFUkSZkrwFNE5geL2",
      "include_colab_link": true
    },
    "kernelspec": {
      "name": "python3",
      "display_name": "Python 3"
    },
    "language_info": {
      "name": "python"
    }
  },
  "cells": [
    {
      "cell_type": "markdown",
      "metadata": {
        "id": "view-in-github",
        "colab_type": "text"
      },
      "source": [
        "<a href=\"https://colab.research.google.com/github/ukishore33/Python-Related-Projects/blob/main/Taking_Multiple_User_Inputs.ipynb\" target=\"_parent\"><img src=\"https://colab.research.google.com/assets/colab-badge.svg\" alt=\"Open In Colab\"/></a>"
      ]
    },
    {
      "cell_type": "code",
      "execution_count": 1,
      "metadata": {
        "colab": {
          "base_uri": "https://localhost:8080/"
        },
        "id": "h0951IxdcqKR",
        "outputId": "037fa6b2-022d-41e7-c65e-206448a227ff"
      },
      "outputs": [
        {
          "name": "stdout",
          "output_type": "stream",
          "text": [
            "Enter Text: s\n",
            "s\n",
            "Enter Text: f\n",
            "f\n",
            "Enter Text: stop\n"
          ]
        }
      ],
      "source": [
        "while True:\n",
        "    reply = input(\"Enter Text: \")\n",
        "    if reply == 'stop': break\n",
        "    print(reply)"
      ]
    }
  ]
}