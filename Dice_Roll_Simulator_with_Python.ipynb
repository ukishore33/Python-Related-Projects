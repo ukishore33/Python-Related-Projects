{
  "nbformat": 4,
  "nbformat_minor": 0,
  "metadata": {
    "colab": {
      "provenance": [],
      "authorship_tag": "ABX9TyN0+eKrQQttYGeMxL9y9m/+",
      "include_colab_link": true
    },
    "kernelspec": {
      "name": "python3",
      "display_name": "Python 3"
    },
    "language_info": {
      "name": "python"
    }
  },
  "cells": [
    {
      "cell_type": "markdown",
      "metadata": {
        "id": "view-in-github",
        "colab_type": "text"
      },
      "source": [
        "<a href=\"https://colab.research.google.com/github/ukishore33/Python-Related-Projects/blob/main/Dice_Roll_Simulator_with_Python.ipynb\" target=\"_parent\"><img src=\"https://colab.research.google.com/assets/colab-badge.svg\" alt=\"Open In Colab\"/></a>"
      ]
    },
    {
      "cell_type": "code",
      "execution_count": 6,
      "metadata": {
        "id": "SUGz65fbjqJh",
        "colab": {
          "base_uri": "https://localhost:8080/"
        },
        "outputId": "f4cb28ba-0875-4965-d501-447935cfe086"
      },
      "outputs": [
        {
          "name": "stdout",
          "output_type": "stream",
          "text": [
            "Rolling The Dices...\n",
            "The Values are :\n",
            "1\n",
            "2\n",
            "Roll the Dices Again?yes\n",
            "Rolling The Dices...\n",
            "The Values are :\n",
            "4\n",
            "1\n",
            "Roll the Dices Again?\n"
          ]
        }
      ],
      "source": [
        "#importing module for random number generation\n",
        "import random\n",
        "\n",
        "#range of the values of a dice\n",
        "min_val = 1\n",
        "max_val = 6\n",
        "\n",
        "#to loop the rolling through user input\n",
        "roll_again = \"yes\"\n",
        "\n",
        "\n",
        "#loop\n",
        "while roll_again == \"yes\" or roll_again == \"y\":\n",
        "    print(\"Rolling The Dices...\")\n",
        "    print(\"The Values are :\")\n",
        "\n",
        "    #generating and printing 1st random integer from 1 to 6\n",
        "    print(random.randint(min_val, max_val))\n",
        "\n",
        "    #generating and printing 2nd random integer from 1 to 6\n",
        "    print(random.randint(min_val, max_val))\n",
        "\n",
        "    #asking user to roll the dice again. Any input other than yes or y will terminate the loop\n",
        "    roll_again = input(\"Roll the Dices Again?\")"
      ]
    }
  ]
}