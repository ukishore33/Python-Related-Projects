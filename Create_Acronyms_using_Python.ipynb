{
  "nbformat": 4,
  "nbformat_minor": 0,
  "metadata": {
    "colab": {
      "provenance": [],
      "authorship_tag": "ABX9TyN6c9Yg7D4M5LAVkJuq7i+L",
      "include_colab_link": true
    },
    "kernelspec": {
      "name": "python3",
      "display_name": "Python 3"
    },
    "language_info": {
      "name": "python"
    }
  },
  "cells": [
    {
      "cell_type": "markdown",
      "metadata": {
        "id": "view-in-github",
        "colab_type": "text"
      },
      "source": [
        "<a href=\"https://colab.research.google.com/github/ukishore33/Python-Related-Projects/blob/main/Create_Acronyms_using_Python.ipynb\" target=\"_parent\"><img src=\"https://colab.research.google.com/assets/colab-badge.svg\" alt=\"Open In Colab\"/></a>"
      ]
    },
    {
      "cell_type": "code",
      "execution_count": 3,
      "metadata": {
        "colab": {
          "base_uri": "https://localhost:8080/"
        },
        "id": "QK6MpLpW74fh",
        "outputId": "cd20ae44-980a-4e24-fa70-b908fc7a356f"
      },
      "outputs": [
        {
          "output_type": "stream",
          "name": "stdout",
          "text": [
            "enter a phrase: artificial intelligence\n",
            "AI\n"
          ]
        }
      ],
      "source": [
        "user_input = str(input('enter a phrase: '))\n",
        "text=user_input.split()\n",
        "a=''\n",
        "for i in text:\n",
        "  a=a+str(i[0]).upper()\n",
        "print(a)"
      ]
    }
  ]
}