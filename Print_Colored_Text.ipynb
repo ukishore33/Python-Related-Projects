{
  "nbformat": 4,
  "nbformat_minor": 0,
  "metadata": {
    "colab": {
      "provenance": [],
      "authorship_tag": "ABX9TyMOs/T6FhyUh4a+Amjn8yFT",
      "include_colab_link": true
    },
    "kernelspec": {
      "name": "python3",
      "display_name": "Python 3"
    },
    "language_info": {
      "name": "python"
    }
  },
  "cells": [
    {
      "cell_type": "markdown",
      "metadata": {
        "id": "view-in-github",
        "colab_type": "text"
      },
      "source": [
        "<a href=\"https://colab.research.google.com/github/ukishore33/Python-Related-Projects/blob/main/Print_Colored_Text.ipynb\" target=\"_parent\"><img src=\"https://colab.research.google.com/assets/colab-badge.svg\" alt=\"Open In Colab\"/></a>"
      ]
    },
    {
      "cell_type": "code",
      "source": [
        "pip install colorama\n"
      ],
      "metadata": {
        "colab": {
          "base_uri": "https://localhost:8080/"
        },
        "id": "3PhKcE2sZ2H3",
        "outputId": "550b0041-7f30-4ecc-bfc9-c5561e83fcd9"
      },
      "execution_count": 2,
      "outputs": [
        {
          "output_type": "stream",
          "name": "stdout",
          "text": [
            "Collecting colorama\n",
            "  Downloading colorama-0.4.6-py2.py3-none-any.whl (25 kB)\n",
            "Installing collected packages: colorama\n",
            "Successfully installed colorama-0.4.6\n"
          ]
        }
      ]
    },
    {
      "cell_type": "code",
      "execution_count": 3,
      "metadata": {
        "colab": {
          "base_uri": "https://localhost:8080/"
        },
        "id": "Wmz1iCpfZenY",
        "outputId": "1e8297b9-77f4-46ce-e135-958543b18a72"
      },
      "outputs": [
        {
          "output_type": "stream",
          "name": "stdout",
          "text": [
            "Hi My name is Aman Kharwal I am your Machine Learning Instructor\n",
            "Hi My name is Aman Kharwal\n",
            "Hi My name is Aman Kharwal\n"
          ]
        }
      ],
      "source": [
        "import colorama\n",
        "from colorama import Fore, Back, Style\n",
        "colorama.init(autoreset=True)\n",
        "\n",
        "print(Fore.BLUE+Back.YELLOW+\"Hi My name is Aman Kharwal \"+ Fore.YELLOW+ Back.BLUE+\"I am your Machine Learning Instructor\")\n",
        "print(Back.CYAN+\"Hi My name is Aman Kharwal\")\n",
        "print(Fore.RED + Back.GREEN+ \"Hi My name is Aman Kharwal\")"
      ]
    }
  ]
}