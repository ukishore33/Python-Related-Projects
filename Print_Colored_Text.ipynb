{
  "cells": [
    {
      "cell_type": "markdown",
      "metadata": {
        "colab_type": "text",
        "id": "view-in-github"
      },
      "source": [
        "<a href=\"https://colab.research.google.com/github/ukishore33/Python-Related-Projects/blob/main/Print_Colored_Text.ipynb\" target=\"_parent\"><img src=\"https://colab.research.google.com/assets/colab-badge.svg\" alt=\"Open In Colab\"/></a>"
      ]
    },
    {
      "cell_type": "code",
      "execution_count": 1,
      "metadata": {
        "colab": {
          "base_uri": "https://localhost:8080/"
        },
        "id": "3PhKcE2sZ2H3",
        "outputId": "550b0041-7f30-4ecc-bfc9-c5561e83fcd9"
      },
      "outputs": [
        {
          "name": "stdout",
          "output_type": "stream",
          "text": [
            "Requirement already satisfied: colorama in /Users/kishoreu/anaconda3/lib/python3.11/site-packages (0.4.6)\n",
            "Note: you may need to restart the kernel to use updated packages.\n"
          ]
        }
      ],
      "source": [
        "pip install colorama\n"
      ]
    },
    {
      "cell_type": "code",
      "execution_count": 2,
      "metadata": {
        "colab": {
          "base_uri": "https://localhost:8080/"
        },
        "id": "Wmz1iCpfZenY",
        "outputId": "1e8297b9-77f4-46ce-e135-958543b18a72"
      },
      "outputs": [
        {
          "name": "stdout",
          "output_type": "stream",
          "text": [
            "Hi My name is Aman Kharwal I am your Machine Learning Instructor\n",
            "Hi My name is Aman Kharwal\n",
            "Hi My name is Aman Kharwal\n"
          ]
        }
      ],
      "source": [
        "import colorama\n",
        "from colorama import Fore, Back, Style\n",
        "colorama.init(autoreset=True)\n",
        "\n",
        "print(Fore.BLUE+Back.YELLOW+\"Hi My name is Aman Kharwal \"+ Fore.YELLOW+ Back.BLUE+\"I am your Machine Learning Instructor\")\n",
        "print(Back.CYAN+\"Hi My name is Aman Kharwal\")\n",
        "print(Fore.RED + Back.GREEN+ \"Hi My name is Aman Kharwal\")"
      ]
    }
  ],
  "metadata": {
    "colab": {
      "authorship_tag": "ABX9TyMOs/T6FhyUh4a+Amjn8yFT",
      "include_colab_link": true,
      "provenance": []
    },
    "kernelspec": {
      "display_name": "Python 3",
      "name": "python3"
    },
    "language_info": {
      "codemirror_mode": {
        "name": "ipython",
        "version": 3
      },
      "file_extension": ".py",
      "mimetype": "text/x-python",
      "name": "python",
      "nbconvert_exporter": "python",
      "pygments_lexer": "ipython3",
      "version": "3.11.5"
    }
  },
  "nbformat": 4,
  "nbformat_minor": 0
}
