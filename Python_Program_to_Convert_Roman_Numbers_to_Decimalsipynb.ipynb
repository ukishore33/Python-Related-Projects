{
  "nbformat": 4,
  "nbformat_minor": 0,
  "metadata": {
    "colab": {
      "provenance": [],
      "authorship_tag": "ABX9TyOAcU5HwyGIAm1oQvlffHjl",
      "include_colab_link": true
    },
    "kernelspec": {
      "name": "python3",
      "display_name": "Python 3"
    },
    "language_info": {
      "name": "python"
    }
  },
  "cells": [
    {
      "cell_type": "markdown",
      "metadata": {
        "id": "view-in-github",
        "colab_type": "text"
      },
      "source": [
        "<a href=\"https://colab.research.google.com/github/ukishore33/Python-Related-Projects/blob/main/Python_Program_to_Convert_Roman_Numbers_to_Decimalsipynb.ipynb\" target=\"_parent\"><img src=\"https://colab.research.google.com/assets/colab-badge.svg\" alt=\"Open In Colab\"/></a>"
      ]
    },
    {
      "cell_type": "code",
      "execution_count": 11,
      "metadata": {
        "colab": {
          "base_uri": "https://localhost:8080/"
        },
        "id": "AlUmlW24cFwW",
        "outputId": "a9e30c31-e18a-4867-a2c9-2e4e381968b6"
      },
      "outputs": [
        {
          "output_type": "execute_result",
          "data": {
            "text/plain": [
              "17"
            ]
          },
          "metadata": {},
          "execution_count": 11
        }
      ],
      "source": [
        "tallies = {\n",
        "    'I': 1,\n",
        "    'V': 5,\n",
        "    'X': 10,\n",
        "    'L': 50,\n",
        "    'C': 100,\n",
        "    'D': 500,\n",
        "    'M': 1000,\n",
        "    # specify more numerals if you wish\n",
        "}\n",
        "\n",
        "def RomanNumeralToDecimal(romanNumeral):\n",
        "    sum = 0\n",
        "    for i in range(len(romanNumeral) - 1):\n",
        "        left = romanNumeral[i]\n",
        "        right = romanNumeral[i + 1]\n",
        "        if tallies[left] < tallies[right]:\n",
        "            sum -= tallies[left]\n",
        "        else:\n",
        "            sum += tallies[left]\n",
        "    sum += tallies[romanNumeral[-1]]\n",
        "    return sum\n",
        "RomanNumeralToDecimal('XVII')"
      ]
    }
  ]
}